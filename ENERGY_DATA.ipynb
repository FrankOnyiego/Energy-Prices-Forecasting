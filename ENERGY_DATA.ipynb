{
 "cells": [
  {
   "cell_type": "code",
   "execution_count": 16,
   "metadata": {},
   "outputs": [
    {
     "name": "stdout",
     "output_type": "stream",
     "text": [
      "Ridge R^2:  0.0902306152104746\n",
      "Lasso R^2:  -0.0001621295034432979\n",
      "Elastic Net R^2:  -0.0001621295034432979\n",
      "Mean Squared Error (MSE): 9104.145108177938\n",
      "Root Mean Squared Error (RMSE): 95.41564393839167\n",
      "Mean Absolute Error (MAE): 55.39131557850489\n",
      "R^2 (Coefficient of Determination) score: 0.0902306152104746\n"
     ]
    }
   ],
   "source": [
    "import pandas as pd\n",
    "import numpy as np\n",
    "from sklearn.model_selection import train_test_split\n",
    "from sklearn.linear_model import Ridge, Lasso, ElasticNet\n",
    "from sklearn.metrics import mean_squared_error, mean_absolute_error, r2_score\n",
    "\n",
    "# Load the data\n",
    "df = pd.read_csv(\"energydata_complete.csv\")\n",
    "df = df.drop(\"date\", axis=1)\n",
    "\n",
    "# Split the data into features and target\n",
    "X = df.drop(\"Appliances\", axis=1)\n",
    "y = df[\"Appliances\"]\n",
    "\n",
    "# Split the data into training and testing sets\n",
    "X_train, X_test, y_train, y_test = train_test_split(X, y, test_size=0.2, random_state=42)\n",
    "\n",
    "# Create instances of the Ridge, Lasso, and ElasticNet models\n",
    "ridge = Ridge(alpha=1.0, normalize=True)\n",
    "lasso = Lasso(alpha=1.0, normalize=True)\n",
    "elastic_net = ElasticNet(alpha=1.0, l1_ratio=0.5, normalize=True)\n",
    "\n",
    "# Fit the models to the training data\n",
    "ridge.fit(X_train, y_train)\n",
    "lasso.fit(X_train, y_train)\n",
    "elastic_net.fit(X_train, y_train)\n",
    "\n",
    "# Evaluate the models on the test data\n",
    "ridge_score = ridge.score(X_test, y_test)\n",
    "lasso_score = lasso.score(X_test, y_test)\n",
    "elastic_net_score = elastic_net.score(X_test, y_test)\n",
    "\n",
    "# Print the results\n",
    "print(\"Ridge R^2: \", ridge_score)\n",
    "print(\"Lasso R^2: \", lasso_score)\n",
    "print(\"Elastic Net R^2: \", elastic_net_score)\n",
    "\n",
    "\n",
    "#PART TWO\n",
    "# Actual target values\n",
    "y_true = y_test\n",
    "\n",
    "# Predicted target values\n",
    "y_pred = ridge.predict(X_test)\n",
    "\n",
    "# Mean Squared Error (MSE)\n",
    "mse = mean_squared_error(y_true, y_pred)\n",
    "print(\"Mean Squared Error (MSE):\", mse)\n",
    "\n",
    "# Root Mean Squared Error (RMSE)\n",
    "rmse = np.sqrt(mse)\n",
    "print(\"Root Mean Squared Error (RMSE):\", rmse)\n",
    "\n",
    "# Mean Absolute Error (MAE)\n",
    "mae = mean_absolute_error(y_true, y_pred)\n",
    "print(\"Mean Absolute Error (MAE):\", mae)\n",
    "\n",
    "# R^2 (coefficient of determination) regression score function.\n",
    "r2 = r2_score(y_true, y_pred)\n",
    "print(\"R^2 (Coefficient of Determination) score:\", r2)"
   ]
  },
  {
   "cell_type": "code",
   "execution_count": null,
   "metadata": {},
   "outputs": [],
   "source": []
  }
 ],
 "metadata": {
  "kernelspec": {
   "display_name": "Python 3",
   "language": "python",
   "name": "python3"
  },
  "language_info": {
   "codemirror_mode": {
    "name": "ipython",
    "version": 3
   },
   "file_extension": ".py",
   "mimetype": "text/x-python",
   "name": "python",
   "nbconvert_exporter": "python",
   "pygments_lexer": "ipython3",
   "version": "3.8.5"
  }
 },
 "nbformat": 4,
 "nbformat_minor": 4
}
